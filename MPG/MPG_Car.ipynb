{
 "cells": [
  {
   "cell_type": "code",
   "execution_count": 1,
   "metadata": {
    "id": "LIJQzKgegF6y"
   },
   "outputs": [],
   "source": [
    "import numpy as np\n",
    "import pandas as pd\n",
    "import matplotlib.pyplot as plt"
   ]
  },
  {
   "cell_type": "code",
   "execution_count": 2,
   "metadata": {
    "colab": {
     "base_uri": "https://localhost:8080/",
     "height": 206
    },
    "id": "COlAFPFxpTak",
    "outputId": "423e7189-13ed-4223-942f-ce0ce1015094"
   },
   "outputs": [
    {
     "data": {
      "text/html": [
       "<div>\n",
       "<style scoped>\n",
       "    .dataframe tbody tr th:only-of-type {\n",
       "        vertical-align: middle;\n",
       "    }\n",
       "\n",
       "    .dataframe tbody tr th {\n",
       "        vertical-align: top;\n",
       "    }\n",
       "\n",
       "    .dataframe thead th {\n",
       "        text-align: right;\n",
       "    }\n",
       "</style>\n",
       "<table border=\"1\" class=\"dataframe\">\n",
       "  <thead>\n",
       "    <tr style=\"text-align: right;\">\n",
       "      <th></th>\n",
       "      <th>mpg</th>\n",
       "      <th>cylinders</th>\n",
       "      <th>displacement</th>\n",
       "      <th>horsepower</th>\n",
       "      <th>weight</th>\n",
       "      <th>acceleration</th>\n",
       "      <th>model year</th>\n",
       "      <th>origin</th>\n",
       "      <th>car name</th>\n",
       "    </tr>\n",
       "  </thead>\n",
       "  <tbody>\n",
       "    <tr>\n",
       "      <th>0</th>\n",
       "      <td>18.0</td>\n",
       "      <td>8</td>\n",
       "      <td>307.0</td>\n",
       "      <td>130</td>\n",
       "      <td>3504</td>\n",
       "      <td>12.0</td>\n",
       "      <td>70</td>\n",
       "      <td>1</td>\n",
       "      <td>chevrolet chevelle malibu</td>\n",
       "    </tr>\n",
       "    <tr>\n",
       "      <th>1</th>\n",
       "      <td>15.0</td>\n",
       "      <td>8</td>\n",
       "      <td>350.0</td>\n",
       "      <td>165</td>\n",
       "      <td>3693</td>\n",
       "      <td>11.5</td>\n",
       "      <td>70</td>\n",
       "      <td>1</td>\n",
       "      <td>buick skylark 320</td>\n",
       "    </tr>\n",
       "    <tr>\n",
       "      <th>2</th>\n",
       "      <td>18.0</td>\n",
       "      <td>8</td>\n",
       "      <td>318.0</td>\n",
       "      <td>150</td>\n",
       "      <td>3436</td>\n",
       "      <td>11.0</td>\n",
       "      <td>70</td>\n",
       "      <td>1</td>\n",
       "      <td>plymouth satellite</td>\n",
       "    </tr>\n",
       "    <tr>\n",
       "      <th>3</th>\n",
       "      <td>16.0</td>\n",
       "      <td>8</td>\n",
       "      <td>304.0</td>\n",
       "      <td>150</td>\n",
       "      <td>3433</td>\n",
       "      <td>12.0</td>\n",
       "      <td>70</td>\n",
       "      <td>1</td>\n",
       "      <td>amc rebel sst</td>\n",
       "    </tr>\n",
       "    <tr>\n",
       "      <th>4</th>\n",
       "      <td>17.0</td>\n",
       "      <td>8</td>\n",
       "      <td>302.0</td>\n",
       "      <td>140</td>\n",
       "      <td>3449</td>\n",
       "      <td>10.5</td>\n",
       "      <td>70</td>\n",
       "      <td>1</td>\n",
       "      <td>ford torino</td>\n",
       "    </tr>\n",
       "  </tbody>\n",
       "</table>\n",
       "</div>"
      ],
      "text/plain": [
       "    mpg  cylinders  displacement horsepower  weight  acceleration  model year  \\\n",
       "0  18.0          8         307.0        130    3504          12.0          70   \n",
       "1  15.0          8         350.0        165    3693          11.5          70   \n",
       "2  18.0          8         318.0        150    3436          11.0          70   \n",
       "3  16.0          8         304.0        150    3433          12.0          70   \n",
       "4  17.0          8         302.0        140    3449          10.5          70   \n",
       "\n",
       "   origin                   car name  \n",
       "0       1  chevrolet chevelle malibu  \n",
       "1       1          buick skylark 320  \n",
       "2       1         plymouth satellite  \n",
       "3       1              amc rebel sst  \n",
       "4       1                ford torino  "
      ]
     },
     "execution_count": 2,
     "metadata": {},
     "output_type": "execute_result"
    }
   ],
   "source": [
    "data = pd.read_csv('auto-mpg.csv')\n",
    "data.head()"
   ]
  },
  {
   "cell_type": "code",
   "execution_count": 3,
   "metadata": {
    "colab": {
     "base_uri": "https://localhost:8080/"
    },
    "id": "_a7d2VZapSnn",
    "outputId": "e49ad5cd-4979-420c-9741-765e47f94bf2"
   },
   "outputs": [
    {
     "data": {
      "text/plain": [
       "array(['130', '165', '150', '140', '198', '220', '215', '225', '190',\n",
       "       '170', '160', '95', '97', '85', '88', '46', '87', '90', '113',\n",
       "       '200', '210', '193', '?', '100', '105', '175', '153', '180', '110',\n",
       "       '72', '86', '70', '76', '65', '69', '60', '80', '54', '208', '155',\n",
       "       '112', '92', '145', '137', '158', '167', '94', '107', '230', '49',\n",
       "       '75', '91', '122', '67', '83', '78', '52', '61', '93', '148',\n",
       "       '129', '96', '71', '98', '115', '53', '81', '79', '120', '152',\n",
       "       '102', '108', '68', '58', '149', '89', '63', '48', '66', '139',\n",
       "       '103', '125', '133', '138', '135', '142', '77', '62', '132', '84',\n",
       "       '64', '74', '116', '82'], dtype=object)"
      ]
     },
     "execution_count": 3,
     "metadata": {},
     "output_type": "execute_result"
    }
   ],
   "source": [
    "data.horsepower.unique()"
   ]
  },
  {
   "cell_type": "code",
   "execution_count": 4,
   "metadata": {
    "id": "2pDnRqWkpSrO"
   },
   "outputs": [],
   "source": [
    "data = data[data.horsepower != '?']"
   ]
  },
  {
   "cell_type": "code",
   "execution_count": 5,
   "metadata": {
    "colab": {
     "base_uri": "https://localhost:8080/"
    },
    "id": "6UR34vIdpStE",
    "outputId": "0528900b-5a64-4dbd-e6b7-56e75ab0d0ac"
   },
   "outputs": [
    {
     "name": "stdout",
     "output_type": "stream",
     "text": [
      "(392, 4) (392, 1)\n"
     ]
    }
   ],
   "source": [
    "x = data.loc[:, ['cylinders', 'displacement', 'weight', 'acceleration']].values\n",
    "y = data.loc[:, ['mpg']].values\n",
    "print(x.shape, y.shape)"
   ]
  },
  {
   "cell_type": "code",
   "execution_count": 6,
   "metadata": {
    "colab": {
     "base_uri": "https://localhost:8080/"
    },
    "id": "_f_VGb_HpSyP",
    "outputId": "b2ae88f1-47b1-414e-9824-ee158ff8c4ff"
   },
   "outputs": [
    {
     "name": "stdout",
     "output_type": "stream",
     "text": [
      "(313, 4) (313, 1)\n",
      "(79, 4) (79, 1)\n"
     ]
    }
   ],
   "source": [
    "from sklearn.model_selection import train_test_split\n",
    "X_train, X_test, y_train, y_test = train_test_split(x, y, test_size=0.2, random_state=42)\n",
    "print(X_train.shape, y_train.shape)\n",
    "print(X_test.shape, y_test.shape)"
   ]
  },
  {
   "cell_type": "code",
   "execution_count": 7,
   "metadata": {
    "id": "5c4Mzo6ypSz9"
   },
   "outputs": [],
   "source": [
    "X_min = X_train.min(axis=0, keepdims=True)\n",
    "X_max = X_train.max(axis=0, keepdims=False)\n",
    "X_train_scaled = (X_train - X_min) / (X_max - X_min)\n",
    "X_test_scaled = (X_test - X_min) / (X_max - X_min)"
   ]
  },
  {
   "cell_type": "code",
   "execution_count": 8,
   "metadata": {
    "colab": {
     "base_uri": "https://localhost:8080/"
    },
    "id": "T0P2aFlypS12",
    "outputId": "a143e814-00d7-4ddc-dacd-8dedb9c08fc5"
   },
   "outputs": [
    {
     "data": {
      "text/plain": [
       "620.0295846645367"
      ]
     },
     "execution_count": 8,
     "metadata": {},
     "output_type": "execute_result"
    }
   ],
   "source": [
    "def predict(X, w):\n",
    "  y_pred = np.dot(X, w)\n",
    "  return y_pred\n",
    "def loss(y_true, y_pred):\n",
    "  return np.mean((y_true - y_pred)**2) # Mean Square Error\n",
    "w = np.zeros((4, 1))\n",
    "y_pred = predict(X_train_scaled, w)\n",
    "loss(y_train, y_pred)"
   ]
  },
  {
   "cell_type": "code",
   "execution_count": 9,
   "metadata": {
    "id": "g6XyvArYpS3P"
   },
   "outputs": [],
   "source": [
    "def grad(X, y, w):\n",
    "  y_pred = predict(X, w)\n",
    "  delta = y_pred - y\n",
    "  dw = np.dot(X.T, delta)\n",
    "  return dw"
   ]
  },
  {
   "cell_type": "code",
   "execution_count": 10,
   "metadata": {
    "id": "529ISr75pS6f"
   },
   "outputs": [],
   "source": [
    "w = np.zeros((4, 1))\n",
    "lr = 0.005\n",
    "n_epoch = 20\n",
    "# (2) Calculate gradients\n",
    "# (3) Update w = w - lr * grad\n",
    "# (4) Repeat step 2 and 4 n_epoch times\n",
    "his = []\n",
    "for i in range(n_epoch):\n",
    "  dw = grad(X_train_scaled, y_train, w)\n",
    "  y_pred = predict(X_train_scaled, w)\n",
    "  his.append(loss(y_train, y_pred))\n",
    "  \n",
    "  w -= lr * dw"
   ]
  },
  {
   "cell_type": "code",
   "execution_count": 11,
   "metadata": {
    "colab": {
     "base_uri": "https://localhost:8080/",
     "height": 301
    },
    "id": "gVQ62BYxszRi",
    "outputId": "d86e2b72-a579-404d-e66e-a910811b961a"
   },
   "outputs": [
    {
     "data": {
      "text/plain": [
       "Text(0, 0.5, 'Loss')"
      ]
     },
     "execution_count": 11,
     "metadata": {},
     "output_type": "execute_result"
    },
    {
     "data": {
      "image/png": "[encoded data removed]",
      "text/plain": [
       "<Figure size 432x288 with 1 Axes>"
      ]
     },
     "metadata": {
      "needs_background": "light"
     },
     "output_type": "display_data"
    }
   ],
   "source": [
    "plt.plot(his)\n",
    "plt.xlabel(\"Epoch\", fontsize=15)\n",
    "plt.ylabel(\"Loss\", fontsize=15)"
   ]
  },
  {
   "cell_type": "code",
   "execution_count": 12,
   "metadata": {
    "colab": {
     "base_uri": "https://localhost:8080/"
    },
    "id": "oh8-7dkbszTn",
    "outputId": "dd0860ec-ba14-4216-e17c-88d177bbe458"
   },
   "outputs": [
    {
     "name": "stdout",
     "output_type": "stream",
     "text": [
      "RMSE = 2244.003419475028\n",
      "MAE = 2226.108940626412\n",
      "r2-score = -98656.793994066\n"
     ]
    }
   ],
   "source": [
    "def evaluate(y_true, y_pred):\n",
    "  rmse = np.sqrt(np.mean((y_true - y_pred)**2))\n",
    "  mae = np.mean(np.abs(y_true - y_pred))\n",
    "  sst = np.sum((y_true - y_true.mean())**2)\n",
    "  ssr = np.sum((y_pred - y_true)**2)\n",
    "  r2 = 1.0 - ssr/sst\n",
    "  print(f\"RMSE = {rmse}\")\n",
    "  print(f\"MAE = {mae}\")\n",
    "  print(f\"r2-score = {r2}\")\n",
    "y_pred = predict(X_test, w)\n",
    "evaluate(y_test, y_pred)"
   ]
  },
  {
   "cell_type": "code",
   "execution_count": 13,
   "metadata": {
    "id": "h6vS-YdiszVg"
   },
   "outputs": [],
   "source": [
    "m = X_train.shape[0]\n",
    "one = np.ones((m, 1))\n",
    "X_new = np.hstack((one, X_train_scaled))\n",
    "X_new\n",
    "w = np.zeros((5, 1))\n",
    "lr = 0.001\n",
    "n_epoch = 2000\n",
    "his = []\n",
    "for i in range(n_epoch):\n",
    "  dw = grad(X_new, y_train, w)\n",
    "  y_pred = predict(X_new, w)\n",
    "  his.append(loss(y_train, y_pred))\n",
    "  w -= lr * dw"
   ]
  },
  {
   "cell_type": "code",
   "execution_count": 14,
   "metadata": {
    "colab": {
     "base_uri": "https://localhost:8080/",
     "height": 352
    },
    "id": "EktBFk0rszXj",
    "outputId": "ac9449fc-1c5e-4665-fae4-90e0695c7db8"
   },
   "outputs": [
    {
     "data": {
      "text/plain": [
       "[18.27736613981536,\n",
       " 18.277361483544546,\n",
       " 18.27735683678119,\n",
       " 18.277352199502012,\n",
       " 18.277347571683787]"
      ]
     },
     "execution_count": 14,
     "metadata": {},
     "output_type": "execute_result"
    },
    {
     "data": {
      "image/png": "[encoded data removed]",
      "text/plain": [
       "<Figure size 432x288 with 1 Axes>"
      ]
     },
     "metadata": {
      "needs_background": "light"
     },
     "output_type": "display_data"
    }
   ],
   "source": [
    "plt.plot(his)\n",
    "his[-5:]"
   ]
  },
  {
   "cell_type": "code",
   "execution_count": 15,
   "metadata": {
    "colab": {
     "base_uri": "https://localhost:8080/"
    },
    "id": "DICfIwlkszZU",
    "outputId": "79ebb3cd-9a9b-42f3-e322-385551592ecd"
   },
   "outputs": [
    {
     "name": "stdout",
     "output_type": "stream",
     "text": [
      "RMSE = 4.255877783339747\n",
      "MAE = 3.5038075201759527\n",
      "r2-score = 0.6451354087862771\n"
     ]
    }
   ],
   "source": [
    "X_test_new = np.hstack((np.ones((X_test.shape[0], 1)), X_test_scaled))\n",
    "y_pred = predict(X_test_new, w)\n",
    "evaluate(y_test, y_pred)"
   ]
  },
  {
   "cell_type": "code",
   "execution_count": null,
   "metadata": {},
   "outputs": [],
   "source": []
  }
 ],
 "metadata": {
  "colab": {
   "provenance": []
  },
  "kernelspec": {
   "display_name": "Python 3 (ipykernel)",
   "language": "python",
   "name": "python3"
  },
  "language_info": {
   "codemirror_mode": {
    "name": "ipython",
    "version": 3
   },
   "file_extension": ".py",
   "mimetype": "text/x-python",
   "name": "python",
   "nbconvert_exporter": "python",
   "pygments_lexer": "ipython3",
   "version": "3.9.7"
  }
 },
 "nbformat": 4,
 "nbformat_minor": 1
}
