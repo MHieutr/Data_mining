{
 "cells": [
  {
   "cell_type": "code",
   "execution_count": 1,
   "id": "36a4a026",
   "metadata": {},
   "outputs": [],
   "source": [
    "import pandas as pd \n",
    "import numpy as np \n",
    "import random\n",
    "import math\n",
    "from datetime import datetime\n",
    "\n",
    "from sklearn.model_selection import train_test_split \n",
    "from sklearn.tree import DecisionTreeClassifier \n",
    "from sklearn.ensemble import RandomForestClassifier \n",
    "from sklearn.ensemble import BaggingClassifier\n",
    "from sklearn import metrics \n",
    "\n",
    "import matplotlib.pyplot as plt"
   ]
  },
  {
   "cell_type": "code",
   "execution_count": 94,
   "id": "5ea375e6",
   "metadata": {},
   "outputs": [
    {
     "data": {
      "text/html": [
       "<div>\n",
       "<style scoped>\n",
       "    .dataframe tbody tr th:only-of-type {\n",
       "        vertical-align: middle;\n",
       "    }\n",
       "\n",
       "    .dataframe tbody tr th {\n",
       "        vertical-align: top;\n",
       "    }\n",
       "\n",
       "    .dataframe thead th {\n",
       "        text-align: right;\n",
       "    }\n",
       "</style>\n",
       "<table border=\"1\" class=\"dataframe\">\n",
       "  <thead>\n",
       "    <tr style=\"text-align: right;\">\n",
       "      <th></th>\n",
       "      <th>class</th>\n",
       "      <th>V2</th>\n",
       "      <th>V3</th>\n",
       "      <th>V4</th>\n",
       "      <th>V5</th>\n",
       "      <th>V6</th>\n",
       "      <th>V7</th>\n",
       "      <th>V8</th>\n",
       "      <th>V9</th>\n",
       "      <th>V10</th>\n",
       "      <th>...</th>\n",
       "      <th>V6025</th>\n",
       "      <th>V6026</th>\n",
       "      <th>V6027</th>\n",
       "      <th>V6028</th>\n",
       "      <th>V6029</th>\n",
       "      <th>V6030</th>\n",
       "      <th>V6031</th>\n",
       "      <th>V6032</th>\n",
       "      <th>V6033</th>\n",
       "      <th>V6034</th>\n",
       "    </tr>\n",
       "  </thead>\n",
       "  <tbody>\n",
       "    <tr>\n",
       "      <th>0</th>\n",
       "      <td>0</td>\n",
       "      <td>-0.927178</td>\n",
       "      <td>-0.740039</td>\n",
       "      <td>-0.532016</td>\n",
       "      <td>-1.097891</td>\n",
       "      <td>-0.986673</td>\n",
       "      <td>0.018752</td>\n",
       "      <td>-0.863326</td>\n",
       "      <td>3.959997</td>\n",
       "      <td>-0.398219</td>\n",
       "      <td>...</td>\n",
       "      <td>-0.029602</td>\n",
       "      <td>-1.097891</td>\n",
       "      <td>-1.097891</td>\n",
       "      <td>-0.894733</td>\n",
       "      <td>0.850270</td>\n",
       "      <td>-1.097891</td>\n",
       "      <td>-0.302063</td>\n",
       "      <td>-0.767685</td>\n",
       "      <td>-0.452616</td>\n",
       "      <td>0.194001</td>\n",
       "    </tr>\n",
       "    <tr>\n",
       "      <th>1</th>\n",
       "      <td>0</td>\n",
       "      <td>-0.835899</td>\n",
       "      <td>-0.835899</td>\n",
       "      <td>-0.585647</td>\n",
       "      <td>-0.835899</td>\n",
       "      <td>-0.329768</td>\n",
       "      <td>-0.835899</td>\n",
       "      <td>-0.835899</td>\n",
       "      <td>4.037788</td>\n",
       "      <td>-0.835899</td>\n",
       "      <td>...</td>\n",
       "      <td>-0.835899</td>\n",
       "      <td>-0.835899</td>\n",
       "      <td>-0.835899</td>\n",
       "      <td>-0.835899</td>\n",
       "      <td>0.038090</td>\n",
       "      <td>-0.835899</td>\n",
       "      <td>-0.835899</td>\n",
       "      <td>-0.835899</td>\n",
       "      <td>-0.835899</td>\n",
       "      <td>0.075500</td>\n",
       "    </tr>\n",
       "    <tr>\n",
       "      <th>2</th>\n",
       "      <td>0</td>\n",
       "      <td>0.236073</td>\n",
       "      <td>0.252645</td>\n",
       "      <td>-1.154351</td>\n",
       "      <td>-0.372372</td>\n",
       "      <td>-0.338900</td>\n",
       "      <td>1.253467</td>\n",
       "      <td>0.506325</td>\n",
       "      <td>3.868961</td>\n",
       "      <td>0.201932</td>\n",
       "      <td>...</td>\n",
       "      <td>0.860446</td>\n",
       "      <td>-1.154351</td>\n",
       "      <td>-1.154351</td>\n",
       "      <td>-0.372372</td>\n",
       "      <td>0.899781</td>\n",
       "      <td>-0.867200</td>\n",
       "      <td>0.360426</td>\n",
       "      <td>-1.154351</td>\n",
       "      <td>-1.154351</td>\n",
       "      <td>-1.154351</td>\n",
       "    </tr>\n",
       "    <tr>\n",
       "      <th>3</th>\n",
       "      <td>0</td>\n",
       "      <td>-0.748623</td>\n",
       "      <td>-0.439165</td>\n",
       "      <td>0.790953</td>\n",
       "      <td>-1.033876</td>\n",
       "      <td>0.241115</td>\n",
       "      <td>1.216007</td>\n",
       "      <td>0.106282</td>\n",
       "      <td>3.976272</td>\n",
       "      <td>0.081755</td>\n",
       "      <td>...</td>\n",
       "      <td>0.614026</td>\n",
       "      <td>-1.121534</td>\n",
       "      <td>-1.121534</td>\n",
       "      <td>-0.812076</td>\n",
       "      <td>1.230378</td>\n",
       "      <td>-0.355497</td>\n",
       "      <td>0.030647</td>\n",
       "      <td>-0.278810</td>\n",
       "      <td>-1.121534</td>\n",
       "      <td>-1.121534</td>\n",
       "    </tr>\n",
       "    <tr>\n",
       "      <th>4</th>\n",
       "      <td>0</td>\n",
       "      <td>0.101239</td>\n",
       "      <td>-0.298285</td>\n",
       "      <td>-1.121519</td>\n",
       "      <td>-0.957714</td>\n",
       "      <td>0.342258</td>\n",
       "      <td>1.182937</td>\n",
       "      <td>0.029325</td>\n",
       "      <td>4.575871</td>\n",
       "      <td>-0.196466</td>\n",
       "      <td>...</td>\n",
       "      <td>0.639511</td>\n",
       "      <td>-1.121519</td>\n",
       "      <td>-1.121519</td>\n",
       "      <td>-0.454932</td>\n",
       "      <td>0.891627</td>\n",
       "      <td>-0.593427</td>\n",
       "      <td>0.306316</td>\n",
       "      <td>-0.076496</td>\n",
       "      <td>-0.134480</td>\n",
       "      <td>-1.121519</td>\n",
       "    </tr>\n",
       "  </tbody>\n",
       "</table>\n",
       "<p>5 rows × 6034 columns</p>\n",
       "</div>"
      ],
      "text/plain": [
       "   class        V2        V3        V4        V5        V6        V7  \\\n",
       "0      0 -0.927178 -0.740039 -0.532016 -1.097891 -0.986673  0.018752   \n",
       "1      0 -0.835899 -0.835899 -0.585647 -0.835899 -0.329768 -0.835899   \n",
       "2      0  0.236073  0.252645 -1.154351 -0.372372 -0.338900  1.253467   \n",
       "3      0 -0.748623 -0.439165  0.790953 -1.033876  0.241115  1.216007   \n",
       "4      0  0.101239 -0.298285 -1.121519 -0.957714  0.342258  1.182937   \n",
       "\n",
       "         V8        V9       V10  ...     V6025     V6026     V6027     V6028  \\\n",
       "0 -0.863326  3.959997 -0.398219  ... -0.029602 -1.097891 -1.097891 -0.894733   \n",
       "1 -0.835899  4.037788 -0.835899  ... -0.835899 -0.835899 -0.835899 -0.835899   \n",
       "2  0.506325  3.868961  0.201932  ...  0.860446 -1.154351 -1.154351 -0.372372   \n",
       "3  0.106282  3.976272  0.081755  ...  0.614026 -1.121534 -1.121534 -0.812076   \n",
       "4  0.029325  4.575871 -0.196466  ...  0.639511 -1.121519 -1.121519 -0.454932   \n",
       "\n",
       "      V6029     V6030     V6031     V6032     V6033     V6034  \n",
       "0  0.850270 -1.097891 -0.302063 -0.767685 -0.452616  0.194001  \n",
       "1  0.038090 -0.835899 -0.835899 -0.835899 -0.835899  0.075500  \n",
       "2  0.899781 -0.867200  0.360426 -1.154351 -1.154351 -1.154351  \n",
       "3  1.230378 -0.355497  0.030647 -0.278810 -1.121534 -1.121534  \n",
       "4  0.891627 -0.593427  0.306316 -0.076496 -0.134480 -1.121519  \n",
       "\n",
       "[5 rows x 6034 columns]"
      ]
     },
     "execution_count": 94,
     "metadata": {},
     "output_type": "execute_result"
    }
   ],
   "source": [
    "#df = pd.read_csv('C:\\\\Users\\\\Dell\\\\Documents\\\\Python\\\\KPDL\\\\Bài báo cáo\\\\Data_Mining_Github\\\\Data\\\\wine.csv')\n",
    "#df = pd.read_csv('C:\\\\Users\\\\Dell\\\\Documents\\\\Python\\\\KPDL\\\\Bài báo cáo\\\\Data_Mining_Github\\\\Data\\\\Brain.csv')\n",
    "df = pd.read_csv('C:\\\\Users\\\\Dell\\\\Documents\\\\Python\\\\KPDL\\\\Bài báo cáo\\\\Data_Mining_Github\\\\Data\\\\Prostate.csv')\n",
    "df.head()"
   ]
  },
  {
   "cell_type": "code",
   "execution_count": 95,
   "id": "deddcb18",
   "metadata": {},
   "outputs": [
    {
     "data": {
      "text/plain": [
       "array([0, 1], dtype=int64)"
      ]
     },
     "execution_count": 95,
     "metadata": {},
     "output_type": "execute_result"
    }
   ],
   "source": [
    "df['class'].unique()"
   ]
  },
  {
   "cell_type": "code",
   "execution_count": 96,
   "id": "164bb230",
   "metadata": {},
   "outputs": [
    {
     "name": "stdout",
     "output_type": "stream",
     "text": [
      "<class 'pandas.core.frame.DataFrame'>\n",
      "RangeIndex: 102 entries, 0 to 101\n",
      "Columns: 6034 entries, class to V6034\n",
      "dtypes: float64(6033), int64(1)\n",
      "memory usage: 4.7 MB\n"
     ]
    }
   ],
   "source": [
    "df.info()"
   ]
  },
  {
   "cell_type": "code",
   "execution_count": 97,
   "id": "fe65d431",
   "metadata": {},
   "outputs": [],
   "source": [
    "#select input and output data for model\n",
    "X = df.iloc[:,df.columns !='class']\n",
    "r, c = df.shape\n",
    "y = df[['class']]\n",
    "\n",
    "# accuracy_score list\n",
    "acc_DT =list()\n",
    "acc_RF= list()\n",
    "acc_Bagging = list()\n",
    "\n",
    "# time \n",
    "time_DT =list()\n",
    "time_Bagging =list()\n",
    "time_RF =list()"
   ]
  },
  {
   "cell_type": "code",
   "execution_count": 98,
   "id": "ce8bea40",
   "metadata": {},
   "outputs": [],
   "source": [
    "for i in range (100):\n",
    "    Train_x, Test_x, Train_y, Test_y = train_test_split(X,  y, \n",
    "                                                        stratify=y, \n",
    "                                                        test_size=0.4, \n",
    "                                                        #random_state = 42)\n",
    "                                                        random_state = random.randint(0,100000))\n",
    "    # Decision Tree Algorithm\n",
    "    start = datetime.now()\n",
    "    model = DecisionTreeClassifier()\n",
    "    model.fit(Train_x, Train_y)        \n",
    "    y_pred = model.predict(Test_x)\n",
    "    end = datetime.now() - start\n",
    "    \n",
    "    time_DT.append(end)\n",
    "    acc = metrics.accuracy_score(Test_y, y_pred)\n",
    "    acc_DT.append(acc)\n",
    "    \n",
    "    # Random Forest Classifier Algorithm\n",
    "    start = datetime.now()\n",
    "    rf_model = RandomForestClassifier(n_estimators=100, max_features= int(math.sqrt(c))+1)\n",
    "    rf_model.fit(Train_x,Train_y.values.ravel())\n",
    "    y_pred = rf_model.predict(Test_x)\n",
    "    end = datetime.now() - start\n",
    "    \n",
    "    time_RF.append(end)    \n",
    "    acc_RF.append(metrics.accuracy_score(Test_y, y_pred))\n",
    "    \n",
    "    # Bagging Algorithm\n",
    "    start = datetime.now()        \n",
    "    base_cls = DecisionTreeClassifier()                \n",
    "    model_bagging = BaggingClassifier(estimator = base_cls, n_estimators = 100)        \n",
    "    model_bagging.fit(Train_x, Train_y.values.ravel())\n",
    "    y_pred = model_bagging.predict(Test_x)     \n",
    "    end = datetime.now() - start\n",
    "    \n",
    "    time_Bagging.append(end)               \n",
    "    acc = metrics.accuracy_score(Test_y, y_pred)    \n",
    "    acc_Bagging.append(acc)  "
   ]
  },
  {
   "cell_type": "code",
   "execution_count": 99,
   "id": "8b74b43b",
   "metadata": {},
   "outputs": [
    {
     "name": "stdout",
     "output_type": "stream",
     "text": [
      "Decision Tree\n",
      "  Độ chính xác trung bình: 0.83\n",
      "  Độ lệch chuẩn: 0.06\n",
      "Random Forest\n",
      "  Độ chính xác trung bình: 0.87\n",
      "  Độ lệch chuẩn: 0.05\n",
      "Bagging\n",
      "  Độ chính xác trung bình: 0.91\n",
      "  Độ lệch chuẩn: 0.04\n",
      "Time\n",
      "  Decision Tree:  0:00:00.158047\n",
      "  Random Forest:  0:00:00.374866\n",
      "  Bagging:  0:00:07.400494\n"
     ]
    }
   ],
   "source": [
    "# Decision Tree\n",
    "print(\"Decision Tree\")\n",
    "print(\"  Độ chính xác trung bình: {:.2f}\".format(np.mean(acc_DT)))\n",
    "print(\"  Độ lệch chuẩn: {:.2f}\".format(np.std(acc_DT)))\n",
    "\n",
    "# Random Forest\n",
    "print(\"Random Forest\")\n",
    "print(\"  Độ chính xác trung bình: {:.2f}\".format(np.mean(acc_RF)))\n",
    "print(\"  Độ lệch chuẩn: {:.2f}\".format(np.std(acc_RF)))\n",
    "\n",
    "# Bagging\n",
    "print(\"Bagging\")\n",
    "print(\"  Độ chính xác trung bình: {:.2f}\".format(np.mean(acc_Bagging)))\n",
    "print(\"  Độ lệch chuẩn: {:.2f}\".format(np.std(acc_Bagging)))\n",
    "\n",
    "# Time\n",
    "print(\"Time\")\n",
    "print(\"  Decision Tree: \", np.mean(time_DT))\n",
    "print(\"  Random Forest: \", np.mean(time_RF))\n",
    "print(\"  Bagging: \", np.mean(time_Bagging))"
   ]
  },
  {
   "cell_type": "code",
   "execution_count": 100,
   "id": "9c8ebe28",
   "metadata": {},
   "outputs": [
    {
     "data": {
      "text/plain": [
       "Text(0, 0.5, 'Accuracy')"
      ]
     },
     "execution_count": 100,
     "metadata": {},
     "output_type": "execute_result"
    },
    {
     "data": {
      "image/png": "[encoded data removed]",
      "text/plain": [
       "<Figure size 432x288 with 1 Axes>"
      ]
     },
     "metadata": {
      "needs_background": "light"
     },
     "output_type": "display_data"
    }
   ],
   "source": [
    "results =[]\n",
    "results.append(acc_DT)\n",
    "results.append(acc_RF)\n",
    "results.append(acc_Bagging)\n",
    "\n",
    "names =('Decision tree', 'Random forest', 'Bagging')\n",
    "fig = plt.figure()\n",
    "fig.suptitle('Algorithm Comparison')\n",
    "plt.boxplot(results, labels=names)\n",
    "plt.ylabel('Accuracy') "
   ]
  },
  {
   "cell_type": "code",
   "execution_count": 78,
   "id": "25b9d58c",
   "metadata": {},
   "outputs": [
    {
     "data": {
      "text/plain": [
       "1.0"
      ]
     },
     "execution_count": 78,
     "metadata": {},
     "output_type": "execute_result"
    }
   ],
   "source": []
  },
  {
   "cell_type": "code",
   "execution_count": null,
   "id": "387fdf8b",
   "metadata": {},
   "outputs": [],
   "source": []
  }
 ],
 "metadata": {
  "kernelspec": {
   "display_name": "Python 3 (ipykernel)",
   "language": "python",
   "name": "python3"
  },
  "language_info": {
   "codemirror_mode": {
    "name": "ipython",
    "version": 3
   },
   "file_extension": ".py",
   "mimetype": "text/x-python",
   "name": "python",
   "nbconvert_exporter": "python",
   "pygments_lexer": "ipython3",
   "version": "3.9.7"
  }
 },
 "nbformat": 4,
 "nbformat_minor": 5
}
